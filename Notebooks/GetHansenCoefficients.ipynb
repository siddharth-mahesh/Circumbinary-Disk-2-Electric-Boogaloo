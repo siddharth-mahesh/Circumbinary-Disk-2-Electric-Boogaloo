{
 "cells": [
  {
   "cell_type": "markdown",
   "metadata": {
    "id": "bUFp0SKquepY"
   },
   "source": [
    "# Eccentricity Coefficients for the Circumbinary Gravitational Potential\n",
    "\n",
    "In this notebook, we compute the eccentricity coefficients that appear in the expansion of the gravitational potential due to a binary point mass system executing an eccentric orbit.\n",
    "\n",
    "The gravitational potential has the form:\n",
    "\n",
    "$$\n",
    "\\Phi = -2\\sum_{l,m,\\mu}Q_lW_{l,m}W_{l,m'}d^l_{\\mu,m}(i)r^{-l-1}r_{12}^l\\cos(m\\phi - \\mu\\phi') \n",
    "$$\n",
    "\n",
    "In this case, one has $r_{12}$ as the binary separation and $\\phi'$ as the true anomaly of the binary. In order to get the gravitational potential in the form of\n",
    "\n",
    "$$\n",
    "\\Phi = \\sum_{m,N} \\Phi_{m,N}\\cos(m\\phi - NM) \n",
    "$$\n",
    "\n",
    "where $M = \\Omega_b t $ is the mean anomaly of the binary, one must find the coefficients $C^l_{\\mu n}$ such that:\n",
    "\n",
    "$$\n",
    "r_{12}^l\\cos(m\\phi - \\mu\\phi') = \\sum_{n} C^l_{\\mu,n}\\cos(m\\phi - (\\mu + n)M).\n",
    "$$\n",
    "\n",
    "This then allows one to write the potential as\n",
    "\n",
    "$$\n",
    "\\Phi_{m,N} = \\sum_{\\mu,n} \\Phi_{m,\\mu,n}\\delta_{\\mu + n,N}.\n",
    "$$\n",
    "\n",
    "Clearly, in order to do this we must solve both the binary separation and the true anomaly in terms of the mean anomaly which in turn requires solving the Kepler equation.\n",
    "\n",
    "## Solving the Kepler Equation for the Eccentric Anomaly\n",
    "\n",
    "In this section, we will solve the Kepler Equation\n",
    "\n",
    "$$\n",
    "M = E - e\\sin E\n",
    "$$\n",
    "\n",
    "for the eccentric anomaly E. We wish to get an approximate solution up to $\\mathcal{O}(e^{10})$, so we use Taylor series to write the equation as a polyomial and solve for each of the coefficients. That is, we introduce:\n",
    "\n",
    "$$\n",
    "E = E_0 + E_ne^n\\\\\n",
    "\\Rightarrow \\sin(E) = \\sin(E_0) + E_ne^n\\cos(E_0) - \\frac{e^ne^mE_mE_m}{2!}\\sin(E_0) + ...  \n",
    "$$\n",
    "\n",
    "We validate the first four coefficients against the solution quoted in ML2015 as\n",
    "\n",
    "$$\n",
    "E = M + e\\sin M + \\frac{e^2}{2}\\sin 2M + \\frac{e^3}{8}(3\\sin 3M - \\sin M) + \\frac{e^4}{6}(2 \\sin 4M - \\sin 2M)\n",
    "$$"
   ]
  },
  {
   "cell_type": "code",
   "execution_count": 1,
   "metadata": {
    "colab": {
     "base_uri": "https://localhost:8080/"
    },
    "id": "Fy-SuIa7sSZ6",
    "outputId": "676070e9-c156-471b-e4e6-44591bd0f1ee"
   },
   "outputs": [
    {
     "name": "stdout",
     "output_type": "stream",
     "text": [
      "M + e**4*(-sin(2*M)/6 + sin(4*M)/3) + e**3*(-sin(M)/8 + 3*sin(3*M)/8) + e**2*sin(2*M)/2 + e*sin(M)\n",
      "All terms agree with ML2015\n"
     ]
    }
   ],
   "source": [
    "import sympy as sp\n",
    "import numpy as np\n",
    "\n",
    "## Solve for the Eccentric Anomaly\n",
    "## M = E - e*sinE\n",
    "\n",
    "M,e = sp.symbols(\"M e\")\n",
    "E = M\n",
    "N = 5\n",
    "for n in range(1,N):\n",
    "  dE = sp.Symbol(\"dE\")\n",
    "  kepler_eqn = M - (E + dE*(e**n)) + e*sp.sin(E+dE*(e**n))\n",
    "  dE_soln = sp.solve(kepler_eqn.taylor_term(n,e),dE)\n",
    "  E += (e**n)*sp.fourier_series(dE_soln[0],(M,0,2*sp.pi)).truncate(N)\n",
    "\n",
    "E_sol = E\n",
    "E_ML2015 = M + e*sp.sin(M) + e*e*sp.sin(2*M)/2 + e*e*e*(3*sp.sin(3*M) - sp.sin(M))/8 + e*e*e*e*(2*sp.sin(4*M) - sp.sin(2*M))/6\n",
    "print(E_sol)\n",
    "for n in range(5):\n",
    "  if sp.simplify(E_sol.taylor_term(n,e) - E_ML2015.taylor_term(n,e)) != 0:\n",
    "    print(\"term of order \",n,\" does not agree\")\n",
    "    break\n",
    "  if n == 4:\n",
    "    print(\"All terms agree with ML2015\")"
   ]
  },
  {
   "cell_type": "markdown",
   "metadata": {
    "id": "76E8Q9rdjYi2"
   },
   "source": [
    "## Compute the Binary Separation\n",
    "\n",
    "The binary separation is given in terms of the eccentric anomaly as:\n",
    "\n",
    "$$\n",
    "r_{12} = 1 - e\\cos E\n",
    "$$"
   ]
  },
  {
   "cell_type": "code",
   "execution_count": 2,
   "metadata": {
    "colab": {
     "base_uri": "https://localhost:8080/"
    },
    "id": "ftSA6yHOtbTf",
    "outputId": "3c49dd9a-c3d2-4fd5-df32-eecec252d90a"
   },
   "outputs": [
    {
     "name": "stdout",
     "output_type": "stream",
     "text": [
      "2*e**4*sin(M)*sin(3*M)/3 + 3*e**3*sin(M)*sin(2*M)/4 + e**2*sin(M)**2 - e*cos(M) + 1\n",
      "All terms agree with ML2015\n"
     ]
    }
   ],
   "source": [
    "## solve for the radius\n",
    "## r = 1 - e*cosE\n",
    "\n",
    "r12 = 1 - e*sp.cos(E_sol)\n",
    "r12_sol = 1\n",
    "for n in range(1,N):\n",
    "  term = sp.simplify(r12.taylor_term(n,e))\n",
    "  r12_sol += term\n",
    "\n",
    "print(r12_sol)\n",
    "r12_ML2015 = 1 - e*sp.cos(M) + e*e*(1 - sp.cos(2*M))/2 + 3*e*e*e*(sp.cos(M) - sp.cos(3*M))/8 + e*e*e*e*(sp.cos(2*M) - sp.cos(4*M))/3\n",
    "\n",
    "for n in range(5):\n",
    "  if sp.simplify(r12_sol.taylor_term(n,e) - r12_ML2015.taylor_term(n,e)) != 0:\n",
    "    print(\"term of order \",n,\" does not agree\")\n",
    "    break\n",
    "  if n == 4:\n",
    "    print(\"All terms agree with ML2015\")"
   ]
  },
  {
   "cell_type": "markdown",
   "metadata": {
    "id": "MqcuKqQ9jm7s"
   },
   "source": [
    "## Compute the True Anomaly $\\phi'$\n",
    "\n",
    "The true anomaly is given in terms of the binary separation as\n",
    "\n",
    "$$\n",
    "\\phi' = \\int^MdM \\frac{\\sqrt{1 - e^2}}{r_{12}^2}\n",
    "$$"
   ]
  },
  {
   "cell_type": "code",
   "execution_count": 3,
   "metadata": {
    "colab": {
     "base_uri": "https://localhost:8080/"
    },
    "id": "Pl4mAkixuM5R",
    "outputId": "4b1eae0f-db43-446a-9c4f-540208f5292d"
   },
   "outputs": [
    {
     "name": "stdout",
     "output_type": "stream",
     "text": [
      "M + e**4*(-11*sin(2*M) + 103*sin(4*M)/4)/24 + e**3*(-3*sin(M) + 13*sin(3*M))/12 + 5*e**2*sin(2*M)/4 + 2*e*sin(M)\n",
      "All terms agree with ML2015\n"
     ]
    }
   ],
   "source": [
    "## solve for the true anomaly\n",
    "## P = int_0^M dM sqrt(1-e^2)/(r12^2)\n",
    "\n",
    "integrand = sp.sqrt(1 - e*e)/(r12_sol**2)\n",
    "integrand_true = sum([sp.simplify(integrand.taylor_term(n,e)) for n in range(N)])\n",
    "integral = sp.integrate(integrand_true,M)\n",
    "P_sol = sum([sp.simplify(integral.taylor_term(n,e)) for n in range(N)])\n",
    "\n",
    "P_ML2015 = M + 2*e*sp.sin(M) + 5*e*e*sp.sin(2*M)/4 + e*e*e*(13*sp.sin(3*M)/12 - sp.sin(M)/4) + e*e*e*e*(103*sp.sin(4*M)/96 - 11*sp.sin(2*M)/24)\n",
    "print(P_sol)\n",
    "for n in range(5):\n",
    "  if sp.simplify(P_sol.taylor_term(n,e) - P_ML2015.taylor_term(n,e)) != 0:\n",
    "    print(\"term of order \", n, \" does not agree\")\n",
    "    break\n",
    "  if n == 4:\n",
    "    print(\"All terms agree with ML2015\")"
   ]
  },
  {
   "cell_type": "markdown",
   "metadata": {
    "id": "PkJss17ekFoF"
   },
   "source": [
    "## Compute the Eccentric Coefficients Numericaly\n",
    "\n",
    "The eccentric coefficients are given by a transformation of the point\n",
    "\n",
    "$$\n",
    "r^l_{12}\\cos(m\\phi - \\mu \\phi') = \\sum_{n}C^l_{\\mu,n}\\cos\\left(m\\phi - (\\mu+n)M\\right)\n",
    "$$\n",
    "\n",
    "Thus one can invert this equation using an inverse fourier transform and get\n",
    "\n",
    "$$\n",
    "C^l_{\\mu n} = \\frac{1}{2\\pi^2}\\int_0^{2\\pi}dM\\int_0^{2\\pi}d\\phi r_{12}^l(M)\\cos(m\\phi - \\mu \\phi'(M))\\cos\\left(m\\phi - (\\mu+n)M\\right)\n",
    "$$\n"
   ]
  },
  {
   "cell_type": "code",
   "execution_count": 4,
   "metadata": {
    "colab": {
     "background_save": true,
     "base_uri": "https://localhost:8080/"
    },
    "id": "b1g-zM0du2jF",
    "outputId": "1e1580a8-5886-433a-80cd-feffd0483505"
   },
   "outputs": [
    {
     "name": "stdout",
     "output_type": "stream",
     "text": [
      "e*(-l*cos(M)*cos(M*mu)*cos(M*(mu + 1)) - 2*mu*sin(M)*sin(M*mu)*cos(M*(mu + 1)))\n",
      "e*(l*Piecewise((-pi/8, Eq(mu, -1)), (pi/8, Eq(mu, 1)), (0, True)) - l*Piecewise((3*pi/8, Eq(mu, -1)), (pi/2, Eq(mu, 0)), (3*pi/8, Eq(mu, 1)), (pi*mu**3/(4*mu**3 - 4*mu) - pi*mu/(4*mu**3 - 4*mu), True)) - 2*mu*Piecewise((-pi/8, Eq(mu, -1)), (pi/8, Eq(mu, 1)), (0, True)) + 2*mu*Piecewise((3*pi/8, Eq(mu, -1)), (0, Eq(mu, 0)), (3*pi/8, Eq(mu, 1)), (pi*mu**3/(4*mu**3 - 4*mu) - pi*mu/(4*mu**3 - 4*mu), True)))\n"
     ]
    }
   ],
   "source": [
    "## Compute the Eccentric Coefficients\n",
    "\n",
    "l = sp.Symbol(\"l\", integer = True)\n",
    "mu = sp.Symbol(\"mu\", integer = True)\n",
    "phi = sp.Symbol(\"phi\")\n",
    "C = []\n",
    "\n",
    "integrand = (r12_sol**l)*sp.cos(mu*P_sol)*sp.cos((mu+1)*M)\n",
    "true_integrand = integrand.taylor_term(1,e)\n",
    "print(true_integrand)\n",
    "Clmu1 = sp.integrate(true_integrand,(M,0,sp.pi))\n",
    "print(Clmu1)"
   ]
  },
  {
   "cell_type": "code",
   "execution_count": null,
   "metadata": {
    "id": "2_AwFgOFu9Hs"
   },
   "outputs": [],
   "source": []
  }
 ],
 "metadata": {
  "colab": {
   "collapsed_sections": [],
   "name": "GetHansenCoefficients.ipynb",
   "provenance": []
  },
  "kernelspec": {
   "display_name": "Python 3",
   "language": "python",
   "name": "python3"
  },
  "language_info": {
   "codemirror_mode": {
    "name": "ipython",
    "version": 3
   },
   "file_extension": ".py",
   "mimetype": "text/x-python",
   "name": "python",
   "nbconvert_exporter": "python",
   "pygments_lexer": "ipython3",
   "version": "3.8.8"
  }
 },
 "nbformat": 4,
 "nbformat_minor": 4
}
