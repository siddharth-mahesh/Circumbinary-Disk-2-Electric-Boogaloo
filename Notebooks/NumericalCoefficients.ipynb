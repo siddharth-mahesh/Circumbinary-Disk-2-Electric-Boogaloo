{
 "cells": [
  {
   "cell_type": "markdown",
   "id": "9bcfb068",
   "metadata": {},
   "source": [
    "# Computing the potential modes up to high eccentricities through numerical fitting\n",
    "\n",
    "First we must look at how the potential modes are prescribed\n",
    "\n",
    "to do this we must first understand that the gravitational potential is given by the law\n",
    "\n",
    "Phi = -GM1/|r1 - r|- GM2/|r2 - r|\n",
    "\n",
    "we are purely interested in the fitting of this potential to hansen coefficients and therefore do not need to consider the \n",
    "case of inclined disk-binary as the wigner matrices will take care of the transferring of the inclined potential to that of the \n",
    "coplanar one. This takes care of the eccentric terms.\n",
    "\n",
    "Additionally, we are not interested in the radial part of the potential since our study relates to the azimuthal modes. Computing the full potential \n",
    "may corrupt the azimuthally asymmetric parts of the potential as they drop at orders much higher than the monopole spherical mode.\n",
    "\n",
    "Therefore, we are purely interested in transforming, at any multipole mode, the azimuthally varing parts of the potential to a series in harmonics of time.\n",
    "\n",
    "From the spherical harmonic decomposition of the multipole potential one arrives at the conclusion that the part of interest is, for a multipole mode $l$ and azimuthal harmonic mode $m$\n",
    "\n",
    "$$\n",
    "\\sum_{\\mu}r_{12}^l\\cos(m\\phi - \\mu\\phi') = \\sum_{\\mu}\\sum_{n} C^l_{\\mu n} \\cos(m\\phi - (\\mu + n)\\Omega_b t)\n",
    "$$\n",
    "\n",
    "To do this, we must first, for a full binary rotation solve for the radius and the azimuth of the binary. The first step in doing so is solving the true anomaly."
   ]
  },
  {
   "cell_type": "code",
   "execution_count": 1,
   "id": "7defd78e",
   "metadata": {},
   "outputs": [
    {
     "name": "stdout",
     "output_type": "stream",
     "text": [
      "[0.         0.06980687 0.13957603 0.20927016 0.2788527  0.34828819\n",
      " 0.41754266 0.48658387 0.55538158 0.6239078  0.69213691 0.76004585\n",
      " 0.82761415 0.89482399 0.9616602  1.02811025 1.09416416 1.1598144\n",
      " 1.22505583 1.28988554 1.35430273 1.41830854 1.48190595 1.54509961\n",
      " 1.60789566 1.67030167 1.73232642 1.79397981 1.85527276 1.91621705\n",
      " 1.97682524 2.03711059 2.09708693 2.15676863 2.21617048 2.27530767\n",
      " 2.3341957  2.39285036 2.45128765 2.50952379 2.56757513 2.62545816\n",
      " 2.6831895  2.74078582 2.79826388 2.8556405  2.91293252 2.97015682\n",
      " 3.02733033 3.08446996 3.14159265 3.19871534 3.25585497 3.31302848\n",
      " 3.37025279 3.42754481 3.48492143 3.54239949 3.59999581 3.65772714\n",
      " 3.71561018 3.77366152 3.83189765 3.89033495 3.9489896  4.00787764\n",
      " 4.06701483 4.12641668 4.18609837 4.24607472 4.30636007 4.36696826\n",
      " 4.42791255 4.4892055  4.55085889 4.61288364 4.67528964 4.7380857\n",
      " 4.80127935 4.86487677 4.92888258 4.99329976 5.05812948 5.12337091\n",
      " 5.18902115 5.25507505 5.3215251  5.38836132 5.45557116 5.52313946\n",
      " 5.5910484  5.65927751 5.72780373 5.79660144 5.86564264 5.93489711\n",
      " 6.00433261 6.07391514 6.14360927 6.21337843 6.28318531]\n"
     ]
    }
   ],
   "source": [
    "## Solve the Kepler problem numerically\n",
    "import numpy as np\n",
    "import matplotlib.pyplot as plt\n",
    "import scipy.optimize as scopt\n",
    "import scipy.integrate as scint\n",
    "\n",
    "\n",
    "def Eccentric_Anomaly_Series(e):\n",
    "    M = np.arange(0,1.01,0.01)*2*np.pi\n",
    "    func = lambda E,MA,ecc: MA - E + ecc*np.sin(E)\n",
    "    dfunc = lambda E,MA,ecc: -1 + ecc*np.cos(E)\n",
    "    eccentric_anomalies = scopt.newton(func,M,dfunc,args = (M,e))\n",
    "    return eccentric_anomalies\n",
    "\n",
    "print(Eccentric_Anomaly_Series(0.1))"
   ]
  },
  {
   "cell_type": "code",
   "execution_count": 2,
   "id": "b1b7952f",
   "metadata": {},
   "outputs": [
    {
     "name": "stdout",
     "output_type": "stream",
     "text": [
      "(array([ 0.81      ,  0.80080557,  0.77342796,  0.72847819,  0.66695501,\n",
      "        0.59021637,  0.49994122,  0.39808317,  0.28681807,  0.16848727,\n",
      "        0.04553882, -0.0795314 , -0.20423692, -0.32615449, -0.44297326,\n",
      "       -0.55253826, -0.65288747, -0.74228205, -0.81922964, -0.88250085,\n",
      "       -0.93113912, -0.96446452, -0.98207206, -0.98382503, -0.96984413,\n",
      "       -0.94049309, -0.89636129, -0.83824424, -0.76712226, -0.68413807,\n",
      "       -0.59057364, -0.48782679, -0.37738786, -0.2608167 , -0.13972031,\n",
      "       -0.01573128,  0.10951283,  0.23438898,  0.35730703,  0.47672682,\n",
      "        0.59117402,  0.69925464,  0.79966823,  0.89121978,  0.97283032,\n",
      "        1.04354616,  1.10254694,  1.14915232,  1.18282751,  1.20318747,\n",
      "        1.21      ,  1.20318747,  1.18282751,  1.14915232,  1.10254694,\n",
      "        1.04354616,  0.97283032,  0.89121978,  0.79966823,  0.69925464,\n",
      "        0.59117402,  0.47672682,  0.35730703,  0.23438898,  0.10951283,\n",
      "       -0.01573128, -0.13972031, -0.2608167 , -0.37738786, -0.48782679,\n",
      "       -0.59057364, -0.68413807, -0.76712226, -0.83824424, -0.89636129,\n",
      "       -0.94049309, -0.96984413, -0.98382503, -0.98207206, -0.96446452,\n",
      "       -0.93113912, -0.88250085, -0.81922964, -0.74228205, -0.65288747,\n",
      "       -0.55253826, -0.44297326, -0.32615449, -0.20423692, -0.0795314 ,\n",
      "        0.04553882,  0.16848727,  0.28681807,  0.39808317,  0.49994122,\n",
      "        0.59021637,  0.66695501,  0.72847819,  0.77342796,  0.80080557,\n",
      "        0.81      ]), array([ 0.00000000e+00,  1.24582964e-01,  2.46474292e-01,  3.63049025e-01,\n",
      "        4.71813207e-01,  5.70463646e-01,  6.56941140e-01,  7.29475534e-01,\n",
      "        7.86621407e-01,  8.27283624e-01,  8.50732457e-01,  8.56608425e-01,\n",
      "        8.44917377e-01,  8.16016675e-01,  7.70593592e-01,  7.09637175e-01,\n",
      "        6.34404946e-01,  5.46385816e-01,  4.47260524e-01,  3.38860863e-01,\n",
      "        2.23128790e-01,  1.02076386e-01, -2.22525287e-02, -1.47818470e-01,\n",
      "       -2.72619582e-01, -3.94721789e-01, -5.12285583e-01, -6.23589344e-01,\n",
      "       -7.27049174e-01, -8.21235300e-01, -9.04885166e-01, -9.76913373e-01,\n",
      "       -1.03641866e+00, -1.08268812e+00, -1.11519895e+00, -1.13361783e+00,\n",
      "       -1.13779823e+00, -1.12777596e+00, -1.10376295e+00, -1.06613960e+00,\n",
      "       -1.01544590e+00, -9.52371399e-01, -8.77744189e-01, -7.92519119e-01,\n",
      "       -6.97765255e-01, -5.94652779e-01, -4.84439375e-01, -3.68456228e-01,\n",
      "       -2.48093690e-01, -1.24786694e-01, -2.96364525e-16,  1.24786694e-01,\n",
      "        2.48093690e-01,  3.68456228e-01,  4.84439375e-01,  5.94652779e-01,\n",
      "        6.97765255e-01,  7.92519119e-01,  8.77744189e-01,  9.52371399e-01,\n",
      "        1.01544590e+00,  1.06613960e+00,  1.10376295e+00,  1.12777596e+00,\n",
      "        1.13779823e+00,  1.13361783e+00,  1.11519895e+00,  1.08268812e+00,\n",
      "        1.03641866e+00,  9.76913373e-01,  9.04885166e-01,  8.21235300e-01,\n",
      "        7.27049174e-01,  6.23589344e-01,  5.12285583e-01,  3.94721789e-01,\n",
      "        2.72619582e-01,  1.47818470e-01,  2.22525287e-02, -1.02076386e-01,\n",
      "       -2.23128790e-01, -3.38860863e-01, -4.47260524e-01, -5.46385816e-01,\n",
      "       -6.34404946e-01, -7.09637175e-01, -7.70593592e-01, -8.16016675e-01,\n",
      "       -8.44917377e-01, -8.56608425e-01, -8.50732457e-01, -8.27283624e-01,\n",
      "       -7.86621407e-01, -7.29475534e-01, -6.56941140e-01, -5.70463646e-01,\n",
      "       -4.71813207e-01, -3.63049025e-01, -2.46474292e-01, -1.24582964e-01,\n",
      "       -3.96785563e-16]))\n"
     ]
    }
   ],
   "source": [
    "def get_potential_function(l,mu,e):\n",
    "    eccentric_anomalies = Eccentric_Anomaly_Series(e)\n",
    "    binary_separation = 1 - e*np.cos(eccentric_anomalies)\n",
    "    prefac = np.sqrt((1+e)/(1-e))\n",
    "    azimuthal_anomaly = 2*np.arctan2(prefac*np.sin(eccentric_anomalies/2),np.cos(eccentric_anomalies/2))\n",
    "    return (binary_separation**l)*np.cos(mu*azimuthal_anomaly),(binary_separation**l)*np.sin(mu*azimuthal_anomaly)\n",
    "\n",
    "print(get_potential_function(2,2,0.1))"
   ]
  },
  {
   "cell_type": "code",
   "execution_count": 23,
   "id": "7ec74e0f",
   "metadata": {},
   "outputs": [
    {
     "name": "stdout",
     "output_type": "stream",
     "text": [
      "0.9751435246753605\n",
      "0.0001666666666666667\n",
      "computational time for numerical: 0.0\n",
      "computational time for analytical: 0.0\n"
     ]
    }
   ],
   "source": [
    "def get_coefficients(l,mu,n,e):\n",
    "    func_cos, func_sin = get_potential_function(l,mu,e)\n",
    "    MA = np.arange(0,1.01,0.01)*2*np.pi\n",
    "    cos_series, sin_series = np.cos((mu+n)*MA), np.sin((mu+n)*MA)\n",
    "    fs_cos = func_cos*cos_series\n",
    "    fs_sin = func_sin*sin_series\n",
    "    Clmun = (scint.trapezoid(fs_sin,x = MA) + scint.trapezoid(fs_cos,x =MA))/2/np.pi\n",
    "    return Clmun\n",
    "\n",
    "l , mu = 2,0\n",
    "ML_Clmu1 = lambda l,mu,e: 0.5*e*(-l + 2*mu)\n",
    "ML_Clmu2 = lambda l,mu,e: 0.125*e*e*(l*l - (3 + 4*mu)*l + 4*mu*mu + 5*mu)\n",
    "ML_Clmu3 = lambda l,mu,e: (1/48)*e*e*e*(-l*l*l + 3*(3 + 2*mu)*l*l - (12*mu*mu + 33*mu + 17)*l + 2*mu*(4*mu*mu + 15*mu + 13))\n",
    "    \n",
    "import time\n",
    "time_start = time.process_time()\n",
    "print(get_coefficients(2,2,0,0.1))\n",
    "time_end1 = time.process_time()\n",
    "print(ML_Clmu3(2,-1,0.1))\n",
    "time_end2 = time.process_time()\n",
    "\n",
    "print(\"computational time for numerical:\", time_end1 - time_start)\n",
    "print(\"computational time for analytical:\", time_end2 - time_end2)"
   ]
  },
  {
   "cell_type": "code",
   "execution_count": null,
   "id": "25b5e7ef",
   "metadata": {},
   "outputs": [],
   "source": []
  }
 ],
 "metadata": {
  "kernelspec": {
   "display_name": "Python 3",
   "language": "python",
   "name": "python3"
  },
  "language_info": {
   "codemirror_mode": {
    "name": "ipython",
    "version": 3
   },
   "file_extension": ".py",
   "mimetype": "text/x-python",
   "name": "python",
   "nbconvert_exporter": "python",
   "pygments_lexer": "ipython3",
   "version": "3.8.8"
  }
 },
 "nbformat": 4,
 "nbformat_minor": 5
}
